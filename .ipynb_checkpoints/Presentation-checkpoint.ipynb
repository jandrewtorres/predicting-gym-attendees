{
 "cells": [
  {
   "cell_type": "markdown",
   "metadata": {},
   "source": [
    "# John Torres - Final Presentation - Data 301\n",
    "\n",
    "## Introduction\n",
    "[Intro](Introduction.ipynb)\n",
    "\n",
    "## The questions\n",
    "\n",
    "- <b>Q1: </b>What is the relationship between number of attendees at a campus gym, the temperature outside, the time (month/day/hour), and the position within the semester (start of semester, during semester, is weekend, is holiday, etc.) ?\n",
    "- <b>Q2: </b>Using these relationships, how accurately can we predict the number of attendees at a campus gym at a given time?\n",
    "\n",
    "## Import and Tidy\n",
    "Nothing special here.[Import and Tidy](Import and Tidy.ipynb)\n",
    "Resulting dataset:"
   ]
  },
  {
   "cell_type": "code",
   "execution_count": 1,
   "metadata": {
    "collapsed": false
   },
   "outputs": [
    {
     "name": "stdout",
     "output_type": "stream",
     "text": [
      "number_people             int64\n",
      "day_of_week               int64\n",
      "is_weekend                int64\n",
      "is_holiday                int64\n",
      "temperature             float64\n",
      "is_start_of_semester      int64\n",
      "is_during_semester        int64\n",
      "month                     int64\n",
      "hour                      int64\n",
      "dtype: object\n"
     ]
    },
    {
     "data": {
      "text/html": [
       "<div>\n",
       "<table border=\"1\" class=\"dataframe\">\n",
       "  <thead>\n",
       "    <tr style=\"text-align: right;\">\n",
       "      <th></th>\n",
       "      <th>number_people</th>\n",
       "      <th>day_of_week</th>\n",
       "      <th>is_weekend</th>\n",
       "      <th>is_holiday</th>\n",
       "      <th>temperature</th>\n",
       "      <th>is_start_of_semester</th>\n",
       "      <th>is_during_semester</th>\n",
       "      <th>month</th>\n",
       "      <th>hour</th>\n",
       "    </tr>\n",
       "  </thead>\n",
       "  <tbody>\n",
       "    <tr>\n",
       "      <th>0</th>\n",
       "      <td>37</td>\n",
       "      <td>4</td>\n",
       "      <td>0</td>\n",
       "      <td>0</td>\n",
       "      <td>71.76</td>\n",
       "      <td>0</td>\n",
       "      <td>0</td>\n",
       "      <td>8</td>\n",
       "      <td>17</td>\n",
       "    </tr>\n",
       "    <tr>\n",
       "      <th>1</th>\n",
       "      <td>45</td>\n",
       "      <td>4</td>\n",
       "      <td>0</td>\n",
       "      <td>0</td>\n",
       "      <td>71.76</td>\n",
       "      <td>0</td>\n",
       "      <td>0</td>\n",
       "      <td>8</td>\n",
       "      <td>17</td>\n",
       "    </tr>\n",
       "  </tbody>\n",
       "</table>\n",
       "</div>"
      ],
      "text/plain": [
       "   number_people  day_of_week  is_weekend  is_holiday  temperature  \\\n",
       "0             37            4           0           0        71.76   \n",
       "1             45            4           0           0        71.76   \n",
       "\n",
       "   is_start_of_semester  is_during_semester  month  hour  \n",
       "0                     0                   0      8    17  \n",
       "1                     0                   0      8    17  "
      ]
     },
     "execution_count": 1,
     "metadata": {},
     "output_type": "execute_result"
    }
   ],
   "source": [
    "import pandas as pd\n",
    "df = pd.read_csv('/data/jandrewtorres/tidied_data.csv')\n",
    "print(df.dtypes)\n",
    "df.head(2)"
   ]
  },
  {
   "cell_type": "markdown",
   "metadata": {},
   "source": [
    "## EDA\n",
    "[EDA](EDA.ipynb)"
   ]
  },
  {
   "cell_type": "markdown",
   "metadata": {},
   "source": [
    "## Modeling\n",
    "[Modeling](Modeling.ipynb)\n",
    "\n",
    "## Answers to questions\n",
    "<b>Q1</b>\n",
    "- There is a high positive correlation between number of people and:\n",
    "    - hour\n",
    "    - temperature\n",
    "    - is during semester\n",
    "    - is start of semester\n",
    "\n",
    "- There is a high negative correlation between number of people and:\n",
    "    - is weekend\n",
    "    - day of week\n",
    "\n",
    "<b>Q2</b>\n",
    "- The random forest regression model performed the best with an r-squared value of .92."
   ]
  }
 ],
 "metadata": {
  "kernelspec": {
   "display_name": "Python 3",
   "language": "python",
   "name": "python3"
  },
  "language_info": {
   "codemirror_mode": {
    "name": "ipython",
    "version": 3
   },
   "file_extension": ".py",
   "mimetype": "text/x-python",
   "name": "python",
   "nbconvert_exporter": "python",
   "pygments_lexer": "ipython3",
   "version": "3.5.2"
  }
 },
 "nbformat": 4,
 "nbformat_minor": 2
}
