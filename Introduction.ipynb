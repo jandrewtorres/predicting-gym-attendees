{
 "cells": [
  {
   "cell_type": "markdown",
   "metadata": {},
   "source": [
    "# Introduction\n",
    "\n",
    "## John Torres - Final Project Data 301 - Winter 2016/17"
   ]
  },
  {
   "cell_type": "markdown",
   "metadata": {},
   "source": [
    "## Abstract\n",
    "\n",
    "This project is a capstone experience for Intro to Data Science (DATA 301) at Cal Poly San Luis Obispo, in which a dataset containing the number of attendees (in ten minute increments) at a university gymnasium in the last year, and related variables such as temperature and time will be analyzed. Relationships between these variables will be explored and ultimately we will try and find a model that fits the data and can be used to predict the number of people within the gym based upon time, temperature and related variables."
   ]
  },
  {
   "cell_type": "markdown",
   "metadata": {},
   "source": [
    "## Dataset Description\n",
    "\n",
    "The dataset was found at: https://www.kaggle.com/nsrose7224/crowdedness-at-the-campus-gym/\n",
    "\n",
    "## Notebook Links\n",
    "- [Import and Tidy](Import and Tidy.ipynb)\n",
    "    Import dataset and verify data is tidy for analysis\n",
    "- [EDA](EDA.ipynb)\n",
    "    Visualize Data and explore relationships between number of attendees and other variables\n",
    "- [Modeling](Modeling.ipynb)\n",
    "    Apply regression analysis/models to data to try and predict number of attendees in gym base on other variables\n",
    "\n"
   ]
  }
 ],
 "metadata": {
  "kernelspec": {
   "display_name": "Python 3",
   "language": "python",
   "name": "python3"
  },
  "language_info": {
   "codemirror_mode": {
    "name": "ipython",
    "version": 3
   },
   "file_extension": ".py",
   "mimetype": "text/x-python",
   "name": "python",
   "nbconvert_exporter": "python",
   "pygments_lexer": "ipython3",
   "version": "3.5.2"
  }
 },
 "nbformat": 4,
 "nbformat_minor": 2
}
